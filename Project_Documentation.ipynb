{
 "cells": [
  {
   "cell_type": "markdown",
   "id": "50c1eded",
   "metadata": {},
   "source": []
  }
 ],
 "metadata": {
  "language_info": {
   "name": "python"
  }
 },
 "nbformat": 4,
 "nbformat_minor": 5
}
