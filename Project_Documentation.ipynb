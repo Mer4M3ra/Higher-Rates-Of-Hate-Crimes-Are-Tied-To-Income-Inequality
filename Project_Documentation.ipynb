{
 "cells": [
  {
   "attachments": {},
   "cell_type": "markdown",
   "id": "8b2897a1",
   "metadata": {},
   "source": [
    "## Three Tiered Mind Map\n",
    "****\n",
    "![3TierMindMap.png](3TierMindMap.png \"Mind Map\")"
   ]
  },
  {
   "attachments": {},
   "cell_type": "markdown",
   "id": "50c1eded",
   "metadata": {},
   "source": [
    "### Functional Requirement and Non-Functional Requirements\n",
    "****\n",
    "#### Functional Requirements:\n",
    "1. Data Processing\n",
    "\n",
    "This should clean the data as well as transform the data into a organized and readable design\n",
    "2. Saving of data to local storage\n",
    "this is required so peoplew dont "
   ]
  }
 ],
 "metadata": {
  "language_info": {
   "name": "python"
  }
 },
 "nbformat": 4,
 "nbformat_minor": 5
}
