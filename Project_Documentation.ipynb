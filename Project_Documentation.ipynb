{
 "cells": [
  {
   "attachments": {},
   "cell_type": "markdown",
   "id": "73d2d549",
   "metadata": {},
   "source": [
    "# <span style=\"color: #4CC6ED;\">Phase 1: Identifying and Defining</span>"
   ]
  },
  {
   "attachments": {},
   "cell_type": "markdown",
   "id": "9dc900f5",
   "metadata": {},
   "source": [
    "## Three Tiered Mind Map\n",
    "****\n",
    "![3TierMindMap.png](3TierMindMap.png \"Mind Map\")"
   ]
  },
  {
   "attachments": {},
   "cell_type": "markdown",
   "id": "50c1eded",
   "metadata": {},
   "source": [
    "\n",
    "### Functional Requirement and Non-Functional Requirements\n",
    "****\n",
    "#### ***<span style=\"color: red;\">Functional Requirements:</span>***\n",
    "1. Data Processing\n",
    "\n",
    "This should clean the data as well as transform the data into a organized and readable design\n",
    "\n",
    "2. Saving of data to local storage\n",
    "\n",
    "this is required so people dont gather data from scratch each time\n",
    "\n",
    "3. Reporting & Visualisation\n",
    "\n",
    "Generates summary statistics\n",
    "#### ***<span style=\"color: #007bff;\">Non-Functional Requirements:</span>***\n",
    "1. Usability\n",
    "\n",
    "Clear documentation of data\n",
    "\n",
    "2. Reliability\n",
    "\n",
    "Accurate data for each questions that is asked\n",
    "\n",
    "3. Performance\n",
    "\n",
    "Fast Management of Data"
   ]
  },
  {
   "attachments": {},
   "cell_type": "markdown",
   "id": "db409b48",
   "metadata": {},
   "source": [
    "# <span style=\"color: #4CC6ED;\">Phase 2: Researching and Planning</span>"
   ]
  },
  {
   "attachments": {},
   "cell_type": "markdown",
   "id": "a3f3739e",
   "metadata": {},
   "source": [
    "\n",
    "### Discuss Your Findings:\n",
    "#### Research Your Issue\n",
    "- https://link.springer.com/article/10.1007/s10610-020-09450-7\n",
    "\n",
    "- https://journals.sagepub.com/doi/pdf/10.1177/1477370816648993\n",
    "#### Make a SEE-I Paragraph\n",
    "Higher rates of hate crimes are closely linked to greater income inequality in a society. When the gap between the wealthy and the poor widens, economic frustration and social division tend to intensify. People who feel left behind economically may channel their resentment toward marginalized groups, which can fuel prejudice and, in some cases, escalate into hate-motivated offenses. This is not just about money, it is about how inequality erodes trust, weakens social bonds, and amplifies “us versus them” thinking. For example, studies in both the United States and Europe have found that regions with higher income inequality often report more racially or religiously motivated attacks, even when other factors like overall crime rates are accounted for. Economic distress can become a spark for scapegoating minorities. Imagine two towns: one where most residents enjoy a stable middle-class life, and another where wealth is concentrated among a few while many struggle to meet basic needs. In the second ,town resentment brews, narratives of blame take root, and tensions simmer, making acts of targeted hostility far more likely.\n",
    "#### 📘 Hate Crimes Dataset — Data Dictionary\n",
    "\n",
    "| **Column Name**                        | **Description**                                                                 | **Data Type**   |\n",
    "|----------------------------------------|---------------------------------------------------------------------------------|-----------------|\n",
    "| state                                  | U.S. state or district name                                                       | String          |\n",
    "| median_household_income                | Median annual income of households in the state (USD)                             | Numeric (Float) |\n",
    "| share_unemployed_seasonal              | Proportion of the labor force unemployed seasonally                               | Numeric (Float) |\n",
    "| share_population_in_metro_areas        | Proportion of population living in metropolitan areas                              | Numeric (Float) |\n",
    "| share_population_with_high_school_degree| Proportion of population with at least a high school diploma                  | Numeric (Float) |\n",
    "| share_non_citizen                      | Proportion of population who are non-U.S. citizens                                | Numeric (Float) |\n",
    "| share_white_poverty                    | Proportion of white population living below the poverty line                      | Numeric (Float) |\n",
    "| gini_index                             | Measure of income inequality (0 = perfect equality, 1 = perfect inequality)       | Numeric (Float) |\n",
    "| share_non_white                        | Proportion of population identifying as non-white                                 | Numeric (Float) |\n",
    "| share_voters_voted_trump               | Proportion of voters who voted for Donald Trump in the 2016 election              | Numeric (Float) |\n",
    "| hate_crimes_per_100k_splc              | Hate crimes per 100,000 people reported by the SPLC                               | Numeric (Float) |\n",
    "| avg_hatecrimes_per_100k_fbi            | Average hate crimes per 100,000 people reported by the FBI                        | Numeric (Float) |\n",
    "\n"
   ]
  },
  {
   "attachments": {},
   "cell_type": "markdown",
   "id": "5136fc03",
   "metadata": {},
   "source": [
    "# <span style=\"color: #4CC6ED;\">Phase 3: Producing and implementing</span>"
   ]
  }
 ],
 "metadata": {
  "language_info": {
   "name": "python"
  }
 },
 "nbformat": 4,
 "nbformat_minor": 5
}
